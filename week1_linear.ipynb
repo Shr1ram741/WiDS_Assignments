{
 "cells": [
  {
   "cell_type": "markdown",
   "metadata": {},
   "source": [
    "##### Write your code wherever specified and do not change the other code\n"
   ]
  },
  {
   "cell_type": "code",
   "execution_count": 224,
   "metadata": {},
   "outputs": [],
   "source": [
    "import numpy as np\n",
    "import pandas as pd\n",
    "import matplotlib.pyplot as plt\n",
    "\n",
    "# Aim is to predict the marks of students of the test data"
   ]
  },
  {
   "cell_type": "code",
   "execution_count": 225,
   "metadata": {},
   "outputs": [],
   "source": [
    "# Use the file namd 'training data' to train the model\n",
    "\n",
    "data = pd.read_excel('Training data.xlsx')\n",
    "x_train = np.array(data.iloc[:,0:8])\n",
    "y_train = np.array(data.iloc[:,8]).reshape(-1,1)\n",
    "\n",
    "# Try plotting y_train with different features\n",
    "# To get an idea whether to add some features or not\n",
    "# Add some features if required in x_train\n",
    "\n",
    "# Also do label encoding for features not represented in numbers\n",
    "# refer the link if not know : https://youtu.be/589nCGeWG1w?si=t2Wa7LgbUOO4RooM\n",
    "\n",
    "def feature_changing(x_train):\n",
    "  # ---------\n",
    "  inds1=np.where(x_train==\"yes\")[0]\n",
    "  for i in inds1:\n",
    "    x_train[i,0]=0\n",
    "  inds2=np.where(x_train==\"no\")[0]\n",
    "  for i in inds2:\n",
    "    x_train[i,0]=1\n",
    "  inds3=np.where(x_train==\"M\")[0]\n",
    "  for i in inds3:\n",
    "    x_train[i,1]=0\n",
    "  inds4=np.where(x_train==\"F\")[0]\n",
    "  for i in inds4:\n",
    "    x_train[i,1]=1\n",
    "  # ---------\n",
    "  return x_train\n",
    "\n",
    "x_train = feature_changing(x_train)"
   ]
  },
  {
   "cell_type": "code",
   "execution_count": 226,
   "metadata": {},
   "outputs": [],
   "source": [
    "def z_score(x_train):\n",
    "\n",
    "  # ---------\n",
    "  x_mean=np.mean(x_train,axis=0)\n",
    "  x_std=np.std(x_train,axis=0)\n",
    "  x_train=(x_train-x_mean)/x_std\n",
    "  # ---------\n",
    "\n",
    "  return x_train,x_std,x_mean"
   ]
  },
  {
   "cell_type": "code",
   "execution_count": 227,
   "metadata": {},
   "outputs": [],
   "source": [
    "def cost(x_train,y_train,w,b):\n",
    "\n",
    "  # ---------\n",
    "    n=x_train.shape[0]\n",
    "    loss=0\n",
    "    for i in range(n):\n",
    "      f_wb=np.dot(x_train[i],w)+b\n",
    "      cost=(f_wb-y_train[i])**2\n",
    "      loss+=cost\n",
    "    loss/=2*n\n",
    "  # ---------\n",
    "\n",
    "    return loss"
   ]
  },
  {
   "cell_type": "code",
   "execution_count": 228,
   "metadata": {},
   "outputs": [],
   "source": [
    "def gradient_descent(x_train,y_train,w,b):\n",
    "\n",
    "  # ---------\n",
    "  alpha=9.9e-2\n",
    "  m,n=x_train.shape\n",
    "  dj_dw=np.zeros((n,))\n",
    "  dj_db=0\n",
    "  for i in range(m):\n",
    "    diff=(np.dot(x_train[i],w)+b)-y_train[i]\n",
    "    for j in range(n):\n",
    "      dj_dw[j]=dj_dw[j]+diff*x_train[i,j]\n",
    "    dj_db=dj_db+diff\n",
    "  dj_dw=dj_dw/m\n",
    "  dj_db=dj_db/m\n",
    "  w=w-dj_dw*alpha\n",
    "  b=b-dj_db*alpha\n",
    "  # ---------\n",
    "\n",
    "  return w,b"
   ]
  },
  {
   "cell_type": "code",
   "execution_count": 229,
   "metadata": {},
   "outputs": [
    {
     "name": "stderr",
     "output_type": "stream",
     "text": [
      "C:\\Users\\shrir\\AppData\\Local\\Temp\\ipykernel_24480\\2403258798.py:11: DeprecationWarning: Conversion of an array with ndim > 0 to a scalar is deprecated, and will error in future. Ensure you extract a single element from your array before performing this operation. (Deprecated NumPy 1.25.)\n",
      "  dj_dw[j]=dj_dw[j]+diff*x_train[i,j]\n"
     ]
    },
    {
     "name": "stdout",
     "output_type": "stream",
     "text": [
      "Congratulations, your accuracy is 100.0%\n"
     ]
    }
   ],
   "source": [
    "x_train = x_train.astype(np.float64)\n",
    "x_train,x_std,x_mean = z_score(x_train)\n",
    "\n",
    "np.random.seed(2147483647)\n",
    "w = np.random.randn(x_train.shape[1])\n",
    "b = np.random.randn(1)\n",
    "\n",
    "old_cost = 0\n",
    "while abs(old_cost - cost(x_train,y_train,w,b))>0.00001:\n",
    "  old_cost = cost(x_train,y_train,w,b)\n",
    "  w,b = gradient_descent(x_train,y_train,w,b)\n",
    "\n",
    "x_predict = pd.read_excel('Test data.xlsx').iloc[:,:8].to_numpy()\n",
    "x_predict = feature_changing(x_predict)\n",
    "x_predict = (x_predict - x_mean)/x_std\n",
    "ans = pd.read_excel('Test data.xlsx').iloc[:,8].to_numpy()\n",
    "\n",
    "y_predict = np.dot(x_predict,w) + b\n",
    "\n",
    "accuracy = 0\n",
    "for dim in range(len(ans)):\n",
    "  if abs(y_predict[dim]-ans[dim])<0.5: # do not change the tolerance as you'll be checked on +- 0.5 error only\n",
    "    accuracy += 1\n",
    "accuracy = round(accuracy*100/200.0,2)\n",
    "ok = 'Congratulations' if accuracy>95 else 'Optimization required'\n",
    "print(f\"{ok}, your accuracy is {accuracy}%\")"
   ]
  }
 ],
 "metadata": {
  "kernelspec": {
   "display_name": "Python 3",
   "language": "python",
   "name": "python3"
  },
  "language_info": {
   "codemirror_mode": {
    "name": "ipython",
    "version": 3
   },
   "file_extension": ".py",
   "mimetype": "text/x-python",
   "name": "python",
   "nbconvert_exporter": "python",
   "pygments_lexer": "ipython3",
   "version": "3.13.1"
  }
 },
 "nbformat": 4,
 "nbformat_minor": 2
}
