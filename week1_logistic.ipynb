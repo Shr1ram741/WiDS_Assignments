{
 "cells": [
  {
   "cell_type": "markdown",
   "metadata": {},
   "source": [
    "## ASSIGNMENT\n",
    "Assume you are a scientist who is trying to make a propellent and is trying many tests to make an efficient propellent .\n",
    "<br>\n",
    "You have performed two tests.\n",
    "<br>\n",
    "From the two tests you would like whether this propellent works efficiently or not.\n",
    "Build your own logistic regression model to decide .\n",
    "<br>\n",
    "Text with \"DO NOT EDIT THIS CODE\" needs to be only run do not edit it"
   ]
  },
  {
   "cell_type": "code",
   "execution_count": 2,
   "metadata": {},
   "outputs": [],
   "source": [
    "#import libraries\n",
    "import pandas as pd\n",
    "import numpy as np\n",
    "import matplotlib.pyplot as plt\n",
    "import math"
   ]
  },
  {
   "cell_type": "code",
   "execution_count": 3,
   "metadata": {},
   "outputs": [],
   "source": [
    "#load data\n",
    "data=np.loadtxt(\"data.txt\", delimiter=',')\n",
    "X=data[:,:2]\n",
    "y=data[:,2]\n",
    "X_train=X\n",
    "y_train=y"
   ]
  },
  {
   "cell_type": "code",
   "execution_count": 4,
   "metadata": {},
   "outputs": [],
   "source": [
    "#plot data to visualise\n",
    "def plot_data(X,y,positive_label=\"y=1\", negative_label=\"y=0\"):\n",
    "#positive_label and negative_label refers to classes of y as y can be 0 or 1\n",
    "    positive = y == 1\n",
    "    negative = y == 0\n",
    "    plt.plot(X[positive, 0], X[positive, 1], 'k+', label=positive_label)\n",
    "    plt.plot(X[negative, 0], X[negative, 1], 'yo', label=negative_label)\n",
    "#While plotting graph the label parameter will be either positive_label or negative_label so plot both the labels for"
   ]
  },
  {
   "cell_type": "code",
   "execution_count": 5,
   "metadata": {},
   "outputs": [
    {
     "data": {
      "image/png": "[encoded data removed]",
      "text/plain": [
       "<Figure size 640x480 with 1 Axes>"
      ]
     },
     "metadata": {},
     "output_type": "display_data"
    }
   ],
   "source": [
    "#test\n",
    "plot_data(X_train, y_train[:], positive_label=\"Accepted\", negative_label=\"Rejected\")\n",
    "\n",
    "\n",
    "plt.xlabel('Test 2')\n",
    "plt.ylabel('Test 1')\n",
    "plt.legend(loc=\"upper right\")\n",
    "plt.show()"
   ]
  },
  {
   "cell_type": "code",
   "execution_count": 6,
   "metadata": {},
   "outputs": [],
   "source": [
    "#feature mapping\n",
    "def map_feature(X1,X2):\n",
    "  X1=np.atleast_1d(X1)\n",
    "  X2=np.atleast_1d(X2)\n",
    "  degree=6\n",
    "  out=[]\n",
    "  for i in range(1,degree+1):\n",
    "    for j in range(i+1):\n",
    "      out.append((X1**(i-j) * (X2**j)))\n",
    "  return np.stack(out, axis=1)"
   ]
  },
  {
   "cell_type": "code",
   "execution_count": 7,
   "metadata": {},
   "outputs": [
    {
     "name": "stdout",
     "output_type": "stream",
     "text": [
      "Original shape of data: (118, 2)\n",
      "Shape after feature mapping: (118, 27)\n"
     ]
    }
   ],
   "source": [
    "print(\"Original shape of data:\", X_train.shape)\n",
    "\n",
    "mapped_X =  map_feature(X_train[:, 0], X_train[:, 1])\n",
    "print(\"Shape after feature mapping:\", mapped_X.shape)"
   ]
  },
  {
   "cell_type": "markdown",
   "metadata": {},
   "source": [
    "#### DO NOT EDIT THIS CODE"
   ]
  },
  {
   "cell_type": "code",
   "execution_count": 8,
   "metadata": {},
   "outputs": [],
   "source": [
    "# @title DO NOT EDIT THIS CODE\n",
    "def sigmoid_test(target):\n",
    "    assert np.isclose(target(3.0), 0.9525741268224334), \"Failed for scalar input\"\n",
    "    assert np.allclose(target(np.array([2.5, 0])), [0.92414182, 0.5]), \"Failed for 1D array\"\n",
    "    assert np.allclose(target(np.array([[2.5, -2.5], [0, 1]])),\n",
    "                       [[0.92414182, 0.07585818], [0.5, 0.73105858]]), \"Failed for 2D array\"\n",
    "    print('\\033[92mTests passed!')"
   ]
  },
  {
   "cell_type": "code",
   "execution_count": 9,
   "metadata": {},
   "outputs": [],
   "source": [
    "#sigmoid function\n",
    "def sigmoid(z):\n",
    "    return 1/(1+np.exp(-z))"
   ]
  },
  {
   "cell_type": "code",
   "execution_count": 10,
   "metadata": {},
   "outputs": [
    {
     "name": "stdout",
     "output_type": "stream",
     "text": [
      "\u001b[92mTests passed!\n"
     ]
    }
   ],
   "source": [
    "sigmoid_test(sigmoid)"
   ]
  },
  {
   "cell_type": "markdown",
   "metadata": {},
   "source": [
    "#### DO NOT EDIT THIS CODE"
   ]
  },
  {
   "cell_type": "code",
   "execution_count": 11,
   "metadata": {},
   "outputs": [],
   "source": [
    "# @title DO NOT EDIT THIS CODE\n",
    "def compute_cost_test(target):\n",
    "    X = np.array([[0, 0, 0, 0]]).T\n",
    "    y = np.array([0, 0, 0, 0])\n",
    "    w = np.array([0])\n",
    "    b = 1\n",
    "    result = target(X, y, w, b)\n",
    "    if math.isinf(result):\n",
    "        raise ValueError(\"Did you get the sigmoid of z_wb?\")\n",
    "\n",
    "    np.random.seed(17)\n",
    "    X = np.random.randn(5, 2)\n",
    "    y = np.array([1, 0, 0, 1, 1])\n",
    "    w = np.random.randn(2)\n",
    "    b = 0\n",
    "    result = target(X, y, w, b)\n",
    "    assert np.isclose(result, 2.15510667), f\"Wrong output. Expected: {2.15510667} got: {result}\"\n",
    "\n",
    "    X = np.random.randn(4, 3)\n",
    "    y = np.array([1, 1, 0, 0])\n",
    "    w = np.random.randn(3)\n",
    "    b = 0\n",
    "\n",
    "    result = target(X, y, w, b)\n",
    "    assert np.isclose(result, 0.80709376), f\"Wrong output. Expected: {0.80709376} got: {result}\"\n",
    "\n",
    "    X = np.random.randn(4, 3)\n",
    "    y = np.array([1, 0,1, 0])\n",
    "    w = np.random.randn(3)\n",
    "    b = 3\n",
    "    result = target(X, y, w, b)\n",
    "    assert np.isclose(result, 0.4529660647), f\"Wrong output. Expected: {0.4529660647} got: {result}. Did you inizialized z_wb = b?\"\n",
    "\n",
    "    print('\\033[92mTests passed!')"
   ]
  },
  {
   "cell_type": "code",
   "execution_count": 12,
   "metadata": {},
   "outputs": [],
   "source": [
    "def compute_cost(X,y,w,b,lambda_=1):\n",
    "  (m,n)=X.shape\n",
    "  z=np.dot(X,w)+b\n",
    "  f=sigmoid(z)\n",
    "  cost1=-(np.log(f))*y\n",
    "  cost2=-(np.log(1-f))*(1-y)\n",
    "  cost=cost1+cost2\n",
    "  total_cost=cost.sum()/m\n",
    "  return total_cost"
   ]
  },
  {
   "cell_type": "code",
   "execution_count": 13,
   "metadata": {},
   "outputs": [
    {
     "name": "stdout",
     "output_type": "stream",
     "text": [
      "Cost at test w,b: 11.777\n",
      "\u001b[92mTests passed!\n"
     ]
    }
   ],
   "source": [
    "test_w = np.array([0.2, 0.2])\n",
    "test_b = -24.\n",
    "cost = compute_cost(X_train, y_train, test_w, test_b)\n",
    "print('Cost at test w,b: {:.3f}'.format(cost))\n",
    "\n",
    "\n",
    "# test\n",
    "compute_cost_test(compute_cost)"
   ]
  },
  {
   "cell_type": "code",
   "execution_count": 14,
   "metadata": {},
   "outputs": [],
   "source": [
    "#compute regularised cost\n",
    "def compute_cost_reg(X, y, w, b, lambda_ = 1):\n",
    "  (m,n)=X.shape\n",
    "  pre_cost=compute_cost(X,y,w,b)\n",
    "  reg_cost=w**2\n",
    "  total_cost=pre_cost+(reg_cost.sum())*lambda_/(2*m)\n",
    "  return total_cost"
   ]
  },
  {
   "cell_type": "markdown",
   "metadata": {},
   "source": [
    "#### DO NOT EDIT THIS CODE"
   ]
  },
  {
   "cell_type": "code",
   "execution_count": 15,
   "metadata": {},
   "outputs": [],
   "source": [
    "# @title DO NOT EDIT THIS CODE\n",
    "def compute_cost_reg_test(target):\n",
    "    np.random.seed(1)\n",
    "    w = np.random.randn(3)\n",
    "    b = 0.4\n",
    "    X = np.random.randn(6, 3)\n",
    "    y = np.array([0, 1, 1, 0, 1, 1])\n",
    "    lambda_ = 0.1\n",
    "    expected_output = target(X, y, w, b, lambda_)\n",
    "\n",
    "    assert np.isclose(expected_output, 0.5469746792761936), f\"Wrong output. Expected: {0.5469746792761936} got:{expected_output}\"\n",
    "\n",
    "    w = np.random.randn(5)\n",
    "    b = -0.6\n",
    "    X = np.random.randn(8, 5)\n",
    "    y = np.array([1, 0, 1, 0, 0, 1, 0, 1])\n",
    "    lambda_ = 0.01\n",
    "    output = target(X, y, w, b, lambda_)\n",
    "    assert np.isclose(output, 1.2608591964119995), f\"Wrong output. Expected: {1.2608591964119995} got:{output}\"\n",
    "\n",
    "    w = np.array([2, 2, 2, 2, 2])\n",
    "    b = 0\n",
    "    X = np.zeros((8, 5))\n",
    "    y = np.array([0.5] * 8)\n",
    "    lambda_ = 3\n",
    "    output = target(X, y, w, b, lambda_)\n",
    "    expected = -np.log(0.5) + 3. / (2. * 8.) * 20.\n",
    "    assert np.isclose(output, expected), f\"Wrong output. Expected: {expected} got:{output}\"\n",
    "\n",
    "    print('\\033[92mAll tests passed!')"
   ]
  },
  {
   "cell_type": "code",
   "execution_count": 16,
   "metadata": {},
   "outputs": [
    {
     "name": "stdout",
     "output_type": "stream",
     "text": [
      "Regularised cost : 0.6618252552483951\n",
      "\u001b[92mAll tests passed!\n"
     ]
    }
   ],
   "source": [
    "X_mapped = map_feature(X_train[:, 0], X_train[:, 1])\n",
    "np.random.seed(1)\n",
    "initial_w = np.random.rand(X_mapped.shape[1]) - 0.5\n",
    "initial_b = 0.5\n",
    "lambda_ = 0.5\n",
    "cost = compute_cost_reg(X_mapped, y_train, initial_w, initial_b, lambda_)\n",
    "\n",
    "print(\"Regularised cost :\", cost)\n",
    "\n",
    "#test\n",
    "compute_cost_reg_test(compute_cost_reg)"
   ]
  },
  {
   "cell_type": "markdown",
   "metadata": {},
   "source": [
    "#### DO NOT EDIT THIS CODE"
   ]
  },
  {
   "cell_type": "code",
   "execution_count": 17,
   "metadata": {},
   "outputs": [],
   "source": [
    "# @title DO NOT EDIT THIS CODE\n",
    "def compute_gradient_test(target):\n",
    "    np.random.seed(1)\n",
    "    X = np.random.randn(7, 3)\n",
    "    y = np.array([1, 0, 1, 0, 1, 1, 0])\n",
    "    test_w = np.array([1, 0.5, -0.35])\n",
    "    test_b = 1.7\n",
    "    dj_db, dj_dw  = target(X, y, test_w, test_b)\n",
    "\n",
    "    assert np.isclose(dj_db, 0.28936094), f\"Wrong value for dj_db. Expected: {0.28936094} got: {dj_db}\"\n",
    "    assert dj_dw.shape == test_w.shape, f\"Wrong shape for dj_dw. Expected: {test_w.shape} got: {dj_dw.shape}\"\n",
    "    assert np.allclose(dj_dw, [-0.11999166, 0.41498775, -0.71968405]), f\"Wrong values for dj_dw. Got: {dj_dw}\"\n",
    "\n",
    "    print('\\033[92mTests passed!')"
   ]
  },
  {
   "cell_type": "code",
   "execution_count": 18,
   "metadata": {},
   "outputs": [],
   "source": [
    "#compute gradient\n",
    "def compute_gradient(X, y, w, b, lambda_=None):\n",
    "  m=X.shape[0]\n",
    "  z=np.dot(X,w)+b\n",
    "  f=sigmoid(z)\n",
    "  diff=f-y\n",
    "  dj_dw=np.dot(diff,X)/m\n",
    "  dj_db=((f-y)/m).sum()\n",
    "  return dj_db,dj_dw"
   ]
  },
  {
   "cell_type": "code",
   "execution_count": 19,
   "metadata": {},
   "outputs": [
    {
     "name": "stdout",
     "output_type": "stream",
     "text": [
      "dj_db at test_w: -0.4915254236924829\n",
      "dj_dw at test_w: [-0.00860136101246537, -0.0914730084730621]\n",
      "\u001b[92mTests passed!\n"
     ]
    }
   ],
   "source": [
    "test_w = np.array([ 0.2, -0.5])\n",
    "test_b = -24\n",
    "dj_db, dj_dw  = compute_gradient(X_train, y_train, test_w, test_b)\n",
    "\n",
    "print('dj_db at test_w:', dj_db)\n",
    "print('dj_dw at test_w:', dj_dw.tolist())\n",
    "\n",
    "# test\n",
    "compute_gradient_test(compute_gradient)"
   ]
  },
  {
   "cell_type": "code",
   "execution_count": 20,
   "metadata": {},
   "outputs": [],
   "source": [
    "#compute regularised gradient\n",
    "def compute_gradient_reg(X, y, w, b, lambda_=1):\n",
    "  m=X.shape[0]\n",
    "  dj_db_o, dj_dw_o=compute_gradient(X,y,w,b)\n",
    "  dj_dw=dj_dw_o + lambda_/(m)*w\n",
    "  dj_db=dj_db_o\n",
    "  return dj_db,dj_dw"
   ]
  },
  {
   "cell_type": "markdown",
   "metadata": {},
   "source": [
    "#### DO NOT EDIT THIS CODE"
   ]
  },
  {
   "cell_type": "code",
   "execution_count": 21,
   "metadata": {},
   "outputs": [],
   "source": [
    "# @title DO NOT EDIT THIS CODE\n",
    "def compute_gradient_reg_test(target):\n",
    "    np.random.seed(1)\n",
    "    w = np.random.randn(5)\n",
    "    b = 0.2\n",
    "    X = np.random.randn(7, 5)\n",
    "    y = np.array([0, 1, 1, 0, 1, 1, 0])\n",
    "    lambda_ = 0.1\n",
    "    expected1 = (-0.1506447567869257, np.array([ 0.19530838, -0.00632206,  0.19687367,  0.15741161,  0.02791437]))\n",
    "    dj_db, dj_dw = target(X, y, w, b, lambda_)\n",
    "\n",
    "    assert np.isclose(dj_db, expected1[0]), f\"Wrong dj_db. Expected: {expected1[0]} got: {dj_db}\"\n",
    "    assert np.allclose(dj_dw, expected1[1]), f\"Wrong dj_dw. Expected: {expected1[1]} got: {dj_dw}\"\n",
    "\n",
    "\n",
    "    w = np.random.randn(7)\n",
    "    b = 0\n",
    "    X = np.random.randn(7, 7)\n",
    "    y = np.array([1, 0, 0, 0, 1, 1, 0])\n",
    "    lambda_ = 0\n",
    "    expected2 = (0.02660329857573818, np.array([ 0.23567643, -0.06921029, -0.19705212, -0.0002884 ,  0.06490588,\n",
    "        0.26948175,  0.10777992]))\n",
    "    dj_db, dj_dw = target(X, y, w, b, lambda_)\n",
    "    assert np.isclose(dj_db, expected2[0]), f\"Wrong dj_db. Expected: {expected2[0]} got: {dj_db}\"\n",
    "    assert np.allclose(dj_dw, expected2[1]), f\"Wrong dj_dw. Expected: {expected2[1]} got: {dj_dw}\"\n",
    "\n",
    "    print('\\033[92mTests passed!')"
   ]
  },
  {
   "cell_type": "code",
   "execution_count": 22,
   "metadata": {},
   "outputs": [
    {
     "name": "stdout",
     "output_type": "stream",
     "text": [
      "dj_db: 0.07138288792343656\n",
      "\u001b[92mTests passed!\n"
     ]
    }
   ],
   "source": [
    "X_mapped = map_feature(X_train[:, 0], X_train[:, 1])\n",
    "np.random.seed(1)\n",
    "initial_w  = np.random.rand(X_mapped.shape[1]) - 0.5\n",
    "initial_b = 0.5\n",
    "\n",
    "lambda_ = 0.5\n",
    "dj_db, dj_dw = compute_gradient_reg(X_mapped, y_train, initial_w, initial_b, lambda_)\n",
    "\n",
    "print(f\"dj_db: {dj_db}\" )\n",
    "#test\n",
    "compute_gradient_reg_test(compute_gradient_reg)"
   ]
  },
  {
   "cell_type": "code",
   "execution_count": 92,
   "metadata": {},
   "outputs": [],
   "source": [
    "np.random.seed(1)\n",
    "initial_w = np.random.rand(X_mapped.shape[1])-0.5\n",
    "initial_b = 1.\n",
    "lambda_ = 0.01\n",
    "iterations = 1000\n",
    "alpha = 0.01\n",
    "def gradient_descent(X_mapped, y_train, initial_w, initial_b,\n",
    "                                    compute_cost_reg, compute_gradient_reg,\n",
    "                                    alpha, iterations, lambda_):\n",
    "  J_history=[]\n",
    "  w=initial_w\n",
    "  b=initial_b\n",
    "  for i in range(iterations):\n",
    "    dj_db,dj_dw=compute_gradient_reg(X_mapped,y_train,w,b,lambda_)\n",
    "    w=w-alpha*dj_dw\n",
    "    b=b-alpha*dj_db\n",
    "    cost=compute_cost_reg(X_mapped,y_train,w,b,lambda_)\n",
    "    J_history.append(cost)\n",
    "  return w, b, J_history, _\n",
    "\n",
    "w,b, J_history,_ = gradient_descent(X_mapped, y_train, initial_w, initial_b,\n",
    "                                    compute_cost_reg, compute_gradient_reg,\n",
    "                                    alpha, iterations, lambda_)"
   ]
  },
  {
   "cell_type": "code",
   "execution_count": 93,
   "metadata": {},
   "outputs": [],
   "source": [
    "#plot decision boundary\n",
    "def plot_decision_boundary(w,b,X,y):\n",
    "\n",
    "    plot_data(X[:, 0:2], y)\n",
    "\n",
    "    if X.shape[1] <= 2:\n",
    "        plot_x = np.array([min(X[:, 0]), max(X[:, 0])])\n",
    "        plot_y = (-1. / w[1]) * (w[0] * plot_x + b)\n",
    "\n",
    "        plt.plot(plot_x, plot_y, c=\"b\")\n",
    "\n",
    "    else:\n",
    "        u = np.linspace(-1, 1.5, 50)\n",
    "        v = np.linspace(-1, 1.5, 50)\n",
    "\n",
    "        z = np.zeros((len(u), len(v)))\n",
    "\n",
    "\n",
    "        for i in range(len(u)):\n",
    "            for j in range(len(v)):\n",
    "                z[i,j] = sigmoid(np.dot(map_feature(u[i], v[j]), w) + b)\n",
    "\n",
    "\n",
    "        z = z.T\n",
    "\n",
    "\n",
    "        plt.contour(u,v,z, levels = [0.5], colors=\"g\")"
   ]
  },
  {
   "cell_type": "code",
   "execution_count": 94,
   "metadata": {},
   "outputs": [
    {
     "name": "stderr",
     "output_type": "stream",
     "text": [
      "C:\\Users\\shrir\\AppData\\Local\\Temp\\ipykernel_19048\\1319808980.py:21: DeprecationWarning: Conversion of an array with ndim > 0 to a scalar is deprecated, and will error in future. Ensure you extract a single element from your array before performing this operation. (Deprecated NumPy 1.25.)\n",
      "  z[i,j] = sigmoid(np.dot(map_feature(u[i], v[j]), w) + b)\n"
     ]
    },
    {
     "data": {
      "image/png": "[encoded data removed]",
      "text/plain": [
       "<Figure size 640x480 with 1 Axes>"
      ]
     },
     "metadata": {},
     "output_type": "display_data"
    }
   ],
   "source": [
    "plot_decision_boundary(w, b, X_mapped, y_train)"
   ]
  },
  {
   "cell_type": "code",
   "execution_count": 95,
   "metadata": {},
   "outputs": [],
   "source": [
    "#predict your training model\n",
    "def predict(X, w, b):\n",
    "  m,n=X.shape\n",
    "  p=np.zeros(m)\n",
    "  z=np.dot(X,w)+b\n",
    "  f=sigmoid(z)\n",
    "  for i in range(m):\n",
    "    if f[i]>0.5:\n",
    "      p[i]=1\n",
    "  return p"
   ]
  },
  {
   "cell_type": "code",
   "execution_count": 96,
   "metadata": {},
   "outputs": [
    {
     "name": "stdout",
     "output_type": "stream",
     "text": [
      "Accuracy of training model: 66.101695\n"
     ]
    }
   ],
   "source": [
    "p = predict(X_mapped, w, b)\n",
    "\n",
    "print('Accuracy of training model: %f'%(np.mean(p == y_train) * 100))"
   ]
  }
 ],
 "metadata": {
  "kernelspec": {
   "display_name": "Python 3",
   "language": "python",
   "name": "python3"
  },
  "language_info": {
   "codemirror_mode": {
    "name": "ipython",
    "version": 3
   },
   "file_extension": ".py",
   "mimetype": "text/x-python",
   "name": "python",
   "nbconvert_exporter": "python",
   "pygments_lexer": "ipython3",
   "version": "3.13.1"
  }
 },
 "nbformat": 4,
 "nbformat_minor": 2
}
